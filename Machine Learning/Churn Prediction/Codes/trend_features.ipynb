{
 "cells": [
  {
   "cell_type": "code",
   "execution_count": 69,
   "metadata": {},
   "outputs": [],
   "source": [
    "import pandas as pd\n",
    "import numpy as np\n",
    "from category_encoders import TargetEncoder, CountEncoder"
   ]
  },
  {
   "cell_type": "code",
   "execution_count": 158,
   "metadata": {},
   "outputs": [],
   "source": [
    "df = pd.read_csv('Datasets/final_dataset.csv')\n",
    "df = df.drop(['Year_y'],axis=1)\n",
    "df = df.rename(columns={'Year_x': 'Year'})\n",
    "df = df[df['Course'].notnull()]\n",
    "df.Year = df.Year.astype(int)"
   ]
  },
  {
   "cell_type": "code",
   "execution_count": 159,
   "metadata": {},
   "outputs": [],
   "source": [
    "locations = pd.read_excel('Datasets/School locations.xlsx')"
   ]
  },
  {
   "cell_type": "code",
   "execution_count": 160,
   "metadata": {},
   "outputs": [],
   "source": [
    "locations = locations[['Customer heading', 'Institution', 'Titularity']]"
   ]
  },
  {
   "cell_type": "code",
   "execution_count": 161,
   "metadata": {},
   "outputs": [],
   "source": [
    "df = pd.merge(df, locations, on='Customer heading', how='left')"
   ]
  },
  {
   "cell_type": "code",
   "execution_count": 162,
   "metadata": {},
   "outputs": [],
   "source": [
    "trends = pd.read_csv('Datasets/trends.csv')\n",
    "trends = trends.rename(columns={'R15_16': 2016, 'R16_17': 2017, 'R17_18': 2018, 'R18_19': 2019})"
   ]
  },
  {
   "cell_type": "code",
   "execution_count": 163,
   "metadata": {},
   "outputs": [
    {
     "data": {
      "text/html": [
       "<div>\n",
       "<style scoped>\n",
       "    .dataframe tbody tr th:only-of-type {\n",
       "        vertical-align: middle;\n",
       "    }\n",
       "\n",
       "    .dataframe tbody tr th {\n",
       "        vertical-align: top;\n",
       "    }\n",
       "\n",
       "    .dataframe thead th {\n",
       "        text-align: right;\n",
       "    }\n",
       "</style>\n",
       "<table border=\"1\" class=\"dataframe\">\n",
       "  <thead>\n",
       "    <tr style=\"text-align: right;\">\n",
       "      <th></th>\n",
       "      <th>Subject</th>\n",
       "      <th>Course</th>\n",
       "      <th>2016</th>\n",
       "      <th>2017</th>\n",
       "      <th>2018</th>\n",
       "      <th>2019</th>\n",
       "    </tr>\n",
       "  </thead>\n",
       "  <tbody>\n",
       "    <tr>\n",
       "      <td>0</td>\n",
       "      <td>spanish</td>\n",
       "      <td>primary 1</td>\n",
       "      <td>102.965458</td>\n",
       "      <td>105.397134</td>\n",
       "      <td>105.537104</td>\n",
       "      <td>109.778895</td>\n",
       "    </tr>\n",
       "    <tr>\n",
       "      <td>1</td>\n",
       "      <td>spanish</td>\n",
       "      <td>primary 2</td>\n",
       "      <td>113.567547</td>\n",
       "      <td>113.082270</td>\n",
       "      <td>107.370150</td>\n",
       "      <td>113.145457</td>\n",
       "    </tr>\n",
       "    <tr>\n",
       "      <td>2</td>\n",
       "      <td>spanish</td>\n",
       "      <td>primary 3</td>\n",
       "      <td>109.002650</td>\n",
       "      <td>107.737870</td>\n",
       "      <td>104.515799</td>\n",
       "      <td>106.660135</td>\n",
       "    </tr>\n",
       "    <tr>\n",
       "      <td>3</td>\n",
       "      <td>spanish</td>\n",
       "      <td>primary 4</td>\n",
       "      <td>110.910233</td>\n",
       "      <td>115.081936</td>\n",
       "      <td>113.583410</td>\n",
       "      <td>106.402572</td>\n",
       "    </tr>\n",
       "    <tr>\n",
       "      <td>4</td>\n",
       "      <td>spanish</td>\n",
       "      <td>primary 5</td>\n",
       "      <td>103.490316</td>\n",
       "      <td>106.571920</td>\n",
       "      <td>110.719428</td>\n",
       "      <td>111.567043</td>\n",
       "    </tr>\n",
       "  </tbody>\n",
       "</table>\n",
       "</div>"
      ],
      "text/plain": [
       "   Subject     Course        2016        2017        2018        2019\n",
       "0  spanish  primary 1  102.965458  105.397134  105.537104  109.778895\n",
       "1  spanish  primary 2  113.567547  113.082270  107.370150  113.145457\n",
       "2  spanish  primary 3  109.002650  107.737870  104.515799  106.660135\n",
       "3  spanish  primary 4  110.910233  115.081936  113.583410  106.402572\n",
       "4  spanish  primary 5  103.490316  106.571920  110.719428  111.567043"
      ]
     },
     "execution_count": 163,
     "metadata": {},
     "output_type": "execute_result"
    }
   ],
   "source": [
    "trends.head()"
   ]
  },
  {
   "cell_type": "code",
   "execution_count": 164,
   "metadata": {},
   "outputs": [],
   "source": [
    "def impute_market_index(row):\n",
    "    \n",
    "    subject = row.Subject\n",
    "    course = row.Course\n",
    "    year = row.Year\n",
    "    \n",
    "    if year == 2015:\n",
    "        market_index = 100\n",
    "    \n",
    "    else:\n",
    "        market_index = trends.loc[(trends.Subject == subject) & (trends.Course == course), year].values[0]\n",
    "        \n",
    "    return market_index"
   ]
  },
  {
   "cell_type": "code",
   "execution_count": 165,
   "metadata": {},
   "outputs": [],
   "source": [
    "df['Market index'] = df.apply(lambda row: impute_market_index(row), axis=1)"
   ]
  },
  {
   "cell_type": "code",
   "execution_count": 166,
   "metadata": {},
   "outputs": [],
   "source": [
    "df.loc[df.Year.isin([2015,2016,2017]), 'No info on mkt / activities'] = 1\n",
    "df.loc[df.Year.isin([2018, 2019]), 'No info on mkt / activities'] = 0"
   ]
  },
  {
   "cell_type": "code",
   "execution_count": 167,
   "metadata": {},
   "outputs": [],
   "source": [
    "df = df.drop('Academic_Year', axis=1)"
   ]
  },
  {
   "cell_type": "code",
   "execution_count": 168,
   "metadata": {},
   "outputs": [],
   "source": [
    "df = df.rename(columns={'Count_Activities': 'Count activities', \n",
    "                   'number_items': 'Number of items', \n",
    "                   'returns': 'Returns', \n",
    "                   'action_delay_1': 'Action delay 1', \n",
    "                   'action_delay_2': 'Action delay 2', \n",
    "                   'action_delay_3': 'Action delay 3', \n",
    "                   'First Day': 'First day', \n",
    "                   'Last Day': 'Last day', 'ADMINISTRATION': 'Administration',\n",
    "                   'BIOLOGY AND GEOLOGY': 'Biology and Geology', 'ECONOMY': 'Economy', \n",
    "                   'ENGLISH (INFANT)': 'English (infant)', \n",
    "                   'ENGLISH (PRIMARY)': 'English (primary)', \n",
    "                   'ENGLISH (SECONDARY)': 'English (secondary)', \n",
    "                   'FRENCH (PRIMARY)': 'French (primary)', \n",
    "                   'FRENCH (SECONDARY)': 'French (secondary)', \n",
    "                   'FRENCH HIGH SCHOOL': 'French (high school)', \n",
    "                   'GEOGRAPHY AND HISTORY': 'Geography and History', \n",
    "                   'INFANT': 'Infant', \n",
    "                   'INFORMATION TECHNOLOGY': 'Information Technology', \n",
    "                   'LATIN & GREEK': 'Latin and Greek', \n",
    "                   'LIBRARY': 'Library', 'MANAGEMENT BOARD': 'Management Board', \n",
    "                   'MATHEMATICS': 'Mathematics', 'MUSIC (PRIMARY)':'Music (primary)', \n",
    "                   'MUSIC (SECONDARY)': 'Music (secondary)', 'ORIENTATION': 'Orientation', \n",
    "                   'OTHER':'Other', 'OWNERSHIP TEAM': 'Ownership team', \n",
    "                   'PASTORAL TEAM': 'Pastoral team', 'PHILOSOPHY': 'Philosophy', \n",
    "                   'PHYSICS AND CHEMISTRY': 'Physics and Chemistry', 'PLASTIC COURSE': 'Plastic course', \n",
    "                   'PRIMARY': 'Primary', 'QUALITY': 'Quality', 'REGIONAL LANGUAGE': 'Regional language', \n",
    "                   'RELIGION (INFANT)': 'Religion (infant)', 'RELIGION (PRIMARY)': 'Religion (primary)', \n",
    "                   'RELIGION (SECONDARY)': 'Religion (secondary)', 'SCIENCE': 'Science', \n",
    "                   'SPANISH LANGUAGE': 'Spanish language', 'TECHNOLOGY': 'Technology', 'UNALLOCATED': 'Unallocated'})"
   ]
  },
  {
   "cell_type": "code",
   "execution_count": 169,
   "metadata": {},
   "outputs": [
    {
     "name": "stdout",
     "output_type": "stream",
     "text": [
      "<class 'pandas.core.frame.DataFrame'>\n",
      "Int64Index: 45020 entries, 0 to 45019\n",
      "Data columns (total 89 columns):\n",
      "Year                                      45020 non-null int64\n",
      "Course                                    45020 non-null object\n",
      "Subject                                   45020 non-null object\n",
      "# copies                                  45020 non-null float64\n",
      "Customer heading                          45020 non-null int64\n",
      "Count activities                          45020 non-null float64\n",
      "churn                                     29688 non-null float64\n",
      "Num customers of seller                   45020 non-null float64\n",
      "Area covered by seller                    45020 non-null float64\n",
      "Seller portfolio - Catholic (abs)         45020 non-null float64\n",
      "Seller portfolio - Private (abs)          45020 non-null float64\n",
      "Seller portfolio - Catholic (relative)    45020 non-null float64\n",
      "Seller portfolio - Private (relative)     45020 non-null float64\n",
      "Institution = Yes % (relative)            45020 non-null float64\n",
      "Institution = Yes % (abs)                 45020 non-null float64\n",
      "Number of items                           45020 non-null float64\n",
      "Mkt 1                                     45020 non-null float64\n",
      "Mkt 2                                     45020 non-null float64\n",
      "Mkt 3                                     45020 non-null float64\n",
      "Returns                                   45020 non-null float64\n",
      "Action delay 1                            45020 non-null float64\n",
      "Action delay 2                            45020 non-null float64\n",
      "Action delay 3                            45020 non-null float64\n",
      "Count                                     24779 non-null float64\n",
      "Type activity_Administration              24779 non-null float64\n",
      "Type activity_Collect Information         24779 non-null float64\n",
      "Type activity_Commercial                  24779 non-null float64\n",
      "Type activity_Customer training           24779 non-null float64\n",
      "Type activity_Implementation              24779 non-null float64\n",
      "Type activity_In-house training           24779 non-null float64\n",
      "Type activity_Internal                    24779 non-null float64\n",
      "Type activity_Others                      24779 non-null float64\n",
      "Type activity_Presentation                24779 non-null float64\n",
      "Type activity_Prospecting                 24779 non-null float64\n",
      "Type activity_Support                     24779 non-null float64\n",
      "Type activity_Unknown                     24779 non-null float64\n",
      "First day                                 24779 non-null float64\n",
      "Last day                                  24779 non-null float64\n",
      "Administration                            24779 non-null float64\n",
      "Biology and Geology                       24779 non-null float64\n",
      "Economy                                   24779 non-null float64\n",
      "English (infant)                          24779 non-null float64\n",
      "English (primary)                         24779 non-null float64\n",
      "English (secondary)                       24779 non-null float64\n",
      "French (primary)                          24779 non-null float64\n",
      "French (secondary)                        24779 non-null float64\n",
      "French (high school)                      24779 non-null float64\n",
      "Geography and History                     24779 non-null float64\n",
      "Infant                                    24779 non-null float64\n",
      "Information Technology                    24779 non-null float64\n",
      "Latin and Greek                           24779 non-null float64\n",
      "Library                                   24779 non-null float64\n",
      "Management Board                          24779 non-null float64\n",
      "Mathematics                               24779 non-null float64\n",
      "Music (primary)                           24779 non-null float64\n",
      "Music (secondary)                         24779 non-null float64\n",
      "Orientation                               24779 non-null float64\n",
      "Other                                     24779 non-null float64\n",
      "Ownership team                            24779 non-null float64\n",
      "Pastoral team                             24779 non-null float64\n",
      "Philosophy                                24779 non-null float64\n",
      "Physics and Chemistry                     24779 non-null float64\n",
      "Plastic course                            24779 non-null float64\n",
      "Primary                                   24779 non-null float64\n",
      "Quality                                   24779 non-null float64\n",
      "Regional language                         24779 non-null float64\n",
      "Religion (infant)                         24779 non-null float64\n",
      "Religion (primary)                        24779 non-null float64\n",
      "Religion (secondary)                      24779 non-null float64\n",
      "Science                                   24779 non-null float64\n",
      "Spanish language                          24779 non-null float64\n",
      "Technology                                24779 non-null float64\n",
      "Unallocated                               24779 non-null float64\n",
      "Covered this year                         45020 non-null float64\n",
      "Num customers of rep                      45020 non-null float64\n",
      "Tenure of rep                             45020 non-null int64\n",
      "Covered in the past 3y                    45020 non-null float64\n",
      "Covered in the past 4y                    45020 non-null float64\n",
      "Num of reps in 2y                         45020 non-null int64\n",
      "Num of reps in 3y                         45020 non-null int64\n",
      "Num of reps in 4y                         45020 non-null int64\n",
      "Num of reps in 5y                         45020 non-null int64\n",
      "Same rep in years                         45020 non-null int64\n",
      "Cons years covered                        45020 non-null int64\n",
      "Decaying coverage                         45020 non-null float64\n",
      "Institution                               45020 non-null object\n",
      "Titularity                                45020 non-null object\n",
      "Market index                              45020 non-null float64\n",
      "No info on mkt / activities               45020 non-null float64\n",
      "dtypes: float64(76), int64(9), object(4)\n",
      "memory usage: 30.9+ MB\n"
     ]
    }
   ],
   "source": [
    "df.info()"
   ]
  },
  {
   "cell_type": "code",
   "execution_count": 170,
   "metadata": {},
   "outputs": [],
   "source": [
    "test = df[df.Year == 2019].drop('churn', axis=1).fillna(0)"
   ]
  },
  {
   "cell_type": "code",
   "execution_count": 171,
   "metadata": {},
   "outputs": [],
   "source": [
    "train = df[df.Year != 2019].fillna(0)"
   ]
  },
  {
   "cell_type": "code",
   "execution_count": 174,
   "metadata": {},
   "outputs": [
    {
     "data": {
      "text/plain": [
       "TargetEncoder(cols=['Institution', 'Titularity'], drop_invariant=False,\n",
       "              handle_missing='value', handle_unknown='value',\n",
       "              min_samples_leaf=1, return_df=True, smoothing=1.0, verbose=0)"
      ]
     },
     "execution_count": 174,
     "metadata": {},
     "output_type": "execute_result"
    }
   ],
   "source": [
    "te = TargetEncoder(cols=['Institution', 'Titularity'])\n",
    "te.fit(train.drop('churn', axis=1), train.churn)"
   ]
  },
  {
   "cell_type": "code",
   "execution_count": 175,
   "metadata": {},
   "outputs": [],
   "source": [
    "train[['Institution', 'Titularity']] = te.transform(train.drop('churn', axis=1))[['Institution', 'Titularity']]"
   ]
  },
  {
   "cell_type": "code",
   "execution_count": 176,
   "metadata": {},
   "outputs": [],
   "source": [
    "train.to_csv('train_set_cat.csv', index=False)"
   ]
  },
  {
   "cell_type": "code",
   "execution_count": 177,
   "metadata": {},
   "outputs": [],
   "source": [
    "test[['Institution', 'Titularity']] = te.transform(test)[['Institution', 'Titularity']]"
   ]
  },
  {
   "cell_type": "code",
   "execution_count": 178,
   "metadata": {},
   "outputs": [],
   "source": [
    "test.to_csv('test_set_cat.csv', index=False)"
   ]
  },
  {
   "cell_type": "code",
   "execution_count": null,
   "metadata": {},
   "outputs": [],
   "source": []
  }
 ],
 "metadata": {
  "kernelspec": {
   "display_name": "Python 3",
   "language": "python",
   "name": "python3"
  },
  "language_info": {
   "codemirror_mode": {
    "name": "ipython",
    "version": 3
   },
   "file_extension": ".py",
   "mimetype": "text/x-python",
   "name": "python",
   "nbconvert_exporter": "python",
   "pygments_lexer": "ipython3",
   "version": "3.7.4"
  }
 },
 "nbformat": 4,
 "nbformat_minor": 4
}
